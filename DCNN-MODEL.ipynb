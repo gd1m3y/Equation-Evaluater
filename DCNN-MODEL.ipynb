{
 "cells": [
  {
   "cell_type": "code",
   "execution_count": 1,
   "metadata": {},
   "outputs": [
    {
     "name": "stderr",
     "output_type": "stream",
     "text": [
      "Using TensorFlow backend.\n"
     ]
    }
   ],
   "source": [
    "import keras"
   ]
  },
  {
   "cell_type": "code",
   "execution_count": 2,
   "metadata": {},
   "outputs": [],
   "source": [
    "train_dir = 'D:/projects/digit recognizer + solver/extracted_images'"
   ]
  },
  {
   "cell_type": "code",
   "execution_count": 3,
   "metadata": {},
   "outputs": [],
   "source": [
    "from tensorflow.keras.preprocessing.image import ImageDataGenerator"
   ]
  },
  {
   "cell_type": "code",
   "execution_count": 4,
   "metadata": {},
   "outputs": [
    {
     "name": "stdout",
     "output_type": "stream",
     "text": [
      "16\n"
     ]
    }
   ],
   "source": [
    "classes = ['0','1','2','3','4','5','6','7','8','9','+','-','times','(',')']\n",
    "print(len(classes))"
   ]
  },
  {
   "cell_type": "code",
   "execution_count": 5,
   "metadata": {},
   "outputs": [],
   "source": [
    "\n",
    "import keras\n",
    "keras.backend.set_image_data_format('channels_first')"
   ]
  },
  {
   "cell_type": "code",
   "execution_count": 6,
   "metadata": {},
   "outputs": [
    {
     "name": "stdout",
     "output_type": "stream",
     "text": [
      "Found 148914 images belonging to 16 classes.\n",
      "Found 37220 images belonging to 16 classes.\n"
     ]
    }
   ],
   "source": [
    "train_datagen = ImageDataGenerator(rescale=1./255,\n",
    "                                  data_format = 'channels_first',\n",
    "                                  validation_split =0.2)\n",
    "train_generator = train_datagen.flow_from_directory(train_dir,\n",
    "                                                   target_size=(28,28),\n",
    "                                                   color_mode = 'grayscale',\n",
    "                                                   batch_size=20,\n",
    "                                                   shuffle = True,\n",
    "                                                   classes = classes,\n",
    "                                                   class_mode = 'sparse',\n",
    "                                                   subset = 'training')\n",
    "\n",
    "validation_generator = train_datagen.flow_from_directory(train_dir,\n",
    "                                                        target_size=(28,28),\n",
    "                                                        color_mode = 'grayscale',\n",
    "                                                        batch_size=20,\n",
    "                                                        shuffle= True,\n",
    "                                                        classes = classes,\n",
    "                                                        class_mode = 'sparse',\n",
    "                                                        subset = 'validation')\n"
   ]
  },
  {
   "cell_type": "code",
   "execution_count": null,
   "metadata": {},
   "outputs": [],
   "source": []
  },
  {
   "cell_type": "code",
   "execution_count": 7,
   "metadata": {},
   "outputs": [],
   "source": [
    "from keras.layers import merge,Input,concatenate\n",
    "from keras.models import Model\n",
    "from keras.layers.core import Dense,Dropout,Flatten\n",
    "from keras.layers.convolutional import MaxPooling2D,Convolution2D\n",
    "img_rows,img_cols = 28,28\n",
    "nb_filters_1 = 64\n",
    "nb_filters_2 = 128\n",
    "nb_filters_3 = 256\n",
    "nb_conv = 3\n",
    "nb_conv_mid = 4\n",
    "nb_conv_init = 5\n",
    "init = Input(shape=(1,28,28),)\n"
   ]
  },
  {
   "cell_type": "code",
   "execution_count": 8,
   "metadata": {},
   "outputs": [
    {
     "name": "stderr",
     "output_type": "stream",
     "text": [
      "C:\\Users\\naray\\Anaconda3\\envs\\mirai_1\\lib\\site-packages\\ipykernel_launcher.py:1: UserWarning: Update your `Conv2D` call to the Keras 2 API: `Conv2D(64, 5, activation=\"relu\", padding=\"same\")`\n",
      "  \"\"\"Entry point for launching an IPython kernel.\n",
      "C:\\Users\\naray\\Anaconda3\\envs\\mirai_1\\lib\\site-packages\\ipykernel_launcher.py:2: UserWarning: Update your `Conv2D` call to the Keras 2 API: `Conv2D(64, (5, 5), activation=\"relu\", padding=\"same\")`\n",
      "  \n",
      "C:\\Users\\naray\\Anaconda3\\envs\\mirai_1\\lib\\site-packages\\ipykernel_launcher.py:4: UserWarning: Update your `MaxPooling2D` call to the Keras 2 API: `MaxPooling2D(strides=(2, 2), padding=\"same\")`\n",
      "  after removing the cwd from sys.path.\n",
      "C:\\Users\\naray\\Anaconda3\\envs\\mirai_1\\lib\\site-packages\\ipykernel_launcher.py:7: UserWarning: Update your `Conv2D` call to the Keras 2 API: `Conv2D(128, (4, 4), activation=\"relu\", padding=\"same\")`\n",
      "  import sys\n",
      "C:\\Users\\naray\\Anaconda3\\envs\\mirai_1\\lib\\site-packages\\ipykernel_launcher.py:8: UserWarning: Update your `Conv2D` call to the Keras 2 API: `Conv2D(128, (4, 4), activation=\"relu\", padding=\"same\")`\n",
      "  \n",
      "C:\\Users\\naray\\Anaconda3\\envs\\mirai_1\\lib\\site-packages\\ipykernel_launcher.py:12: UserWarning: Update your `MaxPooling2D` call to the Keras 2 API: `MaxPooling2D(strides=(2, 2), padding=\"same\")`\n",
      "  if sys.path[0] == '':\n",
      "C:\\Users\\naray\\Anaconda3\\envs\\mirai_1\\lib\\site-packages\\ipykernel_launcher.py:14: UserWarning: Update your `Conv2D` call to the Keras 2 API: `Conv2D(256, (3, 3), activation=\"relu\", padding=\"same\")`\n",
      "  \n",
      "C:\\Users\\naray\\Anaconda3\\envs\\mirai_1\\lib\\site-packages\\ipykernel_launcher.py:16: UserWarning: Update your `Conv2D` call to the Keras 2 API: `Conv2D(256, (3, 3), activation=\"relu\", padding=\"same\")`\n",
      "  app.launch_new_instance()\n",
      "C:\\Users\\naray\\Anaconda3\\envs\\mirai_1\\lib\\site-packages\\ipykernel_launcher.py:18: UserWarning: Update your `Conv2D` call to the Keras 2 API: `Conv2D(256, (3, 3), activation=\"relu\", padding=\"same\")`\n",
      "C:\\Users\\naray\\Anaconda3\\envs\\mirai_1\\lib\\site-packages\\ipykernel_launcher.py:20: UserWarning: Update your `Conv2D` call to the Keras 2 API: `Conv2D(256, (3, 3), activation=\"relu\", padding=\"same\")`\n",
      "C:\\Users\\naray\\Anaconda3\\envs\\mirai_1\\lib\\site-packages\\ipykernel_launcher.py:22: UserWarning: Update your `Conv2D` call to the Keras 2 API: `Conv2D(256, (3, 3), activation=\"relu\", padding=\"same\")`\n",
      "C:\\Users\\naray\\Anaconda3\\envs\\mirai_1\\lib\\site-packages\\ipykernel_launcher.py:25: UserWarning: Update your `Conv2D` call to the Keras 2 API: `Conv2D(256, (3, 3), activation=\"relu\", padding=\"same\")`\n",
      "C:\\Users\\naray\\Anaconda3\\envs\\mirai_1\\lib\\site-packages\\ipykernel_launcher.py:29: UserWarning: Update your `MaxPooling2D` call to the Keras 2 API: `MaxPooling2D(strides=(2, 2), padding=\"same\")`\n"
     ]
    },
    {
     "name": "stdout",
     "output_type": "stream",
     "text": [
      "Model: \"model_1\"\n",
      "__________________________________________________________________________________________________\n",
      "Layer (type)                    Output Shape         Param #     Connected to                     \n",
      "==================================================================================================\n",
      "input_1 (InputLayer)            (None, 1, 28, 28)    0                                            \n",
      "__________________________________________________________________________________________________\n",
      "conv2d_1 (Conv2D)               (None, 64, 28, 28)   1664        input_1[0][0]                    \n",
      "__________________________________________________________________________________________________\n",
      "conv2d_2 (Conv2D)               (None, 64, 28, 28)   1664        input_1[0][0]                    \n",
      "__________________________________________________________________________________________________\n",
      "merge1 (Concatenate)            (None, 128, 28, 28)  0           conv2d_1[0][0]                   \n",
      "                                                                 conv2d_2[0][0]                   \n",
      "__________________________________________________________________________________________________\n",
      "max_pooling2d_1 (MaxPooling2D)  (None, 128, 14, 14)  0           merge1[0][0]                     \n",
      "__________________________________________________________________________________________________\n",
      "conv2d_3 (Conv2D)               (None, 128, 14, 14)  262272      max_pooling2d_1[0][0]            \n",
      "__________________________________________________________________________________________________\n",
      "conv2d_4 (Conv2D)               (None, 128, 14, 14)  262272      max_pooling2d_1[0][0]            \n",
      "__________________________________________________________________________________________________\n",
      "merge2 (Concatenate)            (None, 256, 14, 14)  0           conv2d_3[0][0]                   \n",
      "                                                                 conv2d_4[0][0]                   \n",
      "__________________________________________________________________________________________________\n",
      "max_pooling2d_2 (MaxPooling2D)  (None, 256, 7, 7)    0           merge2[0][0]                     \n",
      "__________________________________________________________________________________________________\n",
      "conv2d_5 (Conv2D)               (None, 256, 7, 7)    590080      max_pooling2d_2[0][0]            \n",
      "__________________________________________________________________________________________________\n",
      "conv2d_6 (Conv2D)               (None, 256, 7, 7)    590080      max_pooling2d_2[0][0]            \n",
      "__________________________________________________________________________________________________\n",
      "conv2d_7 (Conv2D)               (None, 256, 7, 7)    590080      max_pooling2d_2[0][0]            \n",
      "__________________________________________________________________________________________________\n",
      "conv2d_8 (Conv2D)               (None, 256, 7, 7)    590080      max_pooling2d_2[0][0]            \n",
      "__________________________________________________________________________________________________\n",
      "conv2d_9 (Conv2D)               (None, 256, 7, 7)    590080      max_pooling2d_2[0][0]            \n",
      "__________________________________________________________________________________________________\n",
      "conv2d_10 (Conv2D)              (None, 256, 7, 7)    590080      max_pooling2d_2[0][0]            \n",
      "__________________________________________________________________________________________________\n",
      "merge3 (Concatenate)            (None, 1536, 7, 7)   0           conv2d_5[0][0]                   \n",
      "                                                                 conv2d_6[0][0]                   \n",
      "                                                                 conv2d_7[0][0]                   \n",
      "                                                                 conv2d_8[0][0]                   \n",
      "                                                                 conv2d_9[0][0]                   \n",
      "                                                                 conv2d_10[0][0]                  \n",
      "__________________________________________________________________________________________________\n",
      "max_pooling2d_3 (MaxPooling2D)  (None, 1536, 4, 4)   0           merge3[0][0]                     \n",
      "__________________________________________________________________________________________________\n",
      "dropout_1 (Dropout)             (None, 1536, 4, 4)   0           max_pooling2d_3[0][0]            \n",
      "__________________________________________________________________________________________________\n",
      "flatten_1 (Flatten)             (None, 24576)        0           dropout_1[0][0]                  \n",
      "__________________________________________________________________________________________________\n",
      "dense_1 (Dense)                 (None, 16)           393232      flatten_1[0][0]                  \n",
      "==================================================================================================\n",
      "Total params: 4,461,584\n",
      "Trainable params: 4,461,584\n",
      "Non-trainable params: 0\n",
      "__________________________________________________________________________________________________\n"
     ]
    },
    {
     "name": "stderr",
     "output_type": "stream",
     "text": [
      "C:\\Users\\naray\\Anaconda3\\envs\\mirai_1\\lib\\site-packages\\ipykernel_launcher.py:38: UserWarning: Update your `Model` call to the Keras 2 API: `Model(inputs=Tensor(\"in..., outputs=Tensor(\"de...)`\n"
     ]
    }
   ],
   "source": [
    "fork11 = Convolution2D(nb_filters_1,nb_conv_init,activation='relu',border_mode='same')(init)\n",
    "fork12 = Convolution2D(nb_filters_1,nb_conv_init,nb_conv_init,activation='relu',border_mode='same')(init)\n",
    "merge1 = concatenate([fork11,fork12],axis=1,name='merge1')\n",
    "maxpool1 = MaxPooling2D(strides=(2,2),border_mode = 'same')(merge1)\n",
    "\n",
    "fork21 = Convolution2D(nb_filters_2,nb_conv_mid,nb_conv_mid,activation='relu',\n",
    "                      border_mode ='same')(maxpool1)\n",
    "fork22 = Convolution2D(nb_filters_2,nb_conv_mid,nb_conv_mid,activation='relu',border_mode='same')(maxpool1)\n",
    "\n",
    "merge2 = concatenate([fork21,fork22],axis=1,name='merge2')\n",
    "\n",
    "maxpool2 = MaxPooling2D(strides=(2,2),border_mode='same')(merge2)\n",
    "\n",
    "fork31 = Convolution2D(nb_filters_3,nb_conv,nb_conv,activation='relu',border_mode='same')(maxpool2)\n",
    "\n",
    "fork32 = Convolution2D(nb_filters_3,nb_conv,nb_conv,activation='relu',border_mode='same')(maxpool2)\n",
    "\n",
    "fork33 = Convolution2D(nb_filters_3,nb_conv,nb_conv,activation='relu',border_mode='same')(maxpool2)\n",
    "\n",
    "fork34 = Convolution2D(nb_filters_3,nb_conv,nb_conv,activation='relu',border_mode='same')(maxpool2)\n",
    "\n",
    "fork35 = Convolution2D(nb_filters_3,nb_conv,nb_conv,activation='relu',border_mode='same')(maxpool2)\n",
    "\n",
    "\n",
    "fork36 = Convolution2D(nb_filters_3,nb_conv,nb_conv,activation='relu',border_mode='same')(maxpool2)\n",
    "\n",
    "merge3 = concatenate([fork31,fork32,fork33,fork34,fork35,fork36],axis=1,name='merge3')\n",
    "\n",
    "maxpool3 = MaxPooling2D(strides = (2,2),border_mode='same')(merge3)\n",
    "\n",
    "dropout = Dropout(0.5)(maxpool3)\n",
    "\n",
    "flatten = Flatten()(dropout)\n",
    "\n",
    "output = Dense(15,activation='softmax')(flatten)\n",
    "\n",
    "\n",
    "model = Model(input=init,output=output)\n",
    "\n",
    "model.summary()"
   ]
  },
  {
   "cell_type": "code",
   "execution_count": 9,
   "metadata": {},
   "outputs": [
    {
     "name": "stdout",
     "output_type": "stream",
     "text": [
      "Epoch 1/15\n",
      "100/100 [==============================] - 281s 3s/step - loss: 1.7158 - accuracy: 0.4675 - val_loss: 0.6694 - val_accuracy: 0.7660\n",
      "Epoch 2/15\n",
      "100/100 [==============================] - 256s 3s/step - loss: 0.6464 - accuracy: 0.8080 - val_loss: 0.6671 - val_accuracy: 0.8780\n",
      "Epoch 3/15\n",
      "100/100 [==============================] - 239s 2s/step - loss: 0.4170 - accuracy: 0.8785 - val_loss: 0.5416 - val_accuracy: 0.6635\n",
      "Epoch 4/15\n",
      "100/100 [==============================] - 216s 2s/step - loss: 0.3865 - accuracy: 0.8910 - val_loss: 0.4434 - val_accuracy: 0.9085\n",
      "Epoch 5/15\n",
      "100/100 [==============================] - 203s 2s/step - loss: 0.3236 - accuracy: 0.9080 - val_loss: 0.4141 - val_accuracy: 0.8645\n",
      "Epoch 6/15\n",
      "100/100 [==============================] - 209s 2s/step - loss: 0.2573 - accuracy: 0.9240 - val_loss: 0.4155 - val_accuracy: 0.9175\n",
      "Epoch 7/15\n",
      "100/100 [==============================] - 215s 2s/step - loss: 0.2471 - accuracy: 0.9225 - val_loss: 0.6937 - val_accuracy: 0.9260\n",
      "Epoch 8/15\n",
      "100/100 [==============================] - 207s 2s/step - loss: 0.2301 - accuracy: 0.9350 - val_loss: 0.5526 - val_accuracy: 0.9320\n",
      "Epoch 9/15\n",
      "100/100 [==============================] - 214s 2s/step - loss: 0.2104 - accuracy: 0.9325 - val_loss: 0.0847 - val_accuracy: 0.9455\n",
      "Epoch 10/15\n",
      "100/100 [==============================] - 218s 2s/step - loss: 0.2556 - accuracy: 0.9270 - val_loss: 0.1565 - val_accuracy: 0.9305\n",
      "Epoch 11/15\n",
      "100/100 [==============================] - 204s 2s/step - loss: 0.2006 - accuracy: 0.9380 - val_loss: 0.3113 - val_accuracy: 0.9435\n",
      "Epoch 12/15\n",
      "100/100 [==============================] - 205s 2s/step - loss: 0.1949 - accuracy: 0.9465 - val_loss: 0.9087 - val_accuracy: 0.9250\n",
      "Epoch 13/15\n",
      "100/100 [==============================] - 218s 2s/step - loss: 0.2208 - accuracy: 0.9395 - val_loss: 0.0145 - val_accuracy: 0.9560\n",
      "Epoch 14/15\n",
      "100/100 [==============================] - 199s 2s/step - loss: 0.2101 - accuracy: 0.9345 - val_loss: 0.0972 - val_accuracy: 0.9465\n",
      "Epoch 15/15\n",
      "100/100 [==============================] - 182s 2s/step - loss: 0.2446 - accuracy: 0.9275 - val_loss: 0.3462 - val_accuracy: 0.9475\n"
     ]
    }
   ],
   "source": [
    "from keras import optimizers \n",
    "ada = keras.optimizers.Adadelta(learning_rate=1.0,rho=0.95)\n",
    "model.compile(optimizer=ada,loss='sparse_categorical_crossentropy',\n",
    "             metrics=['accuracy'])\n",
    "history = model.fit_generator(train_generator,validation_data=validation_generator,\n",
    "                             steps_per_epoch=100,\n",
    "                             validation_steps=100,\n",
    "                             epochs=15)"
   ]
  },
  {
   "cell_type": "code",
   "execution_count": 10,
   "metadata": {},
   "outputs": [],
   "source": [
    "accuracy = history.history['accuracy']\n",
    "val_accuracy = history.history['val_accuracy']"
   ]
  },
  {
   "cell_type": "code",
   "execution_count": 11,
   "metadata": {},
   "outputs": [],
   "source": [
    "import matplotlib.pyplot as plt"
   ]
  },
  {
   "cell_type": "code",
   "execution_count": 12,
   "metadata": {},
   "outputs": [
    {
     "name": "stdout",
     "output_type": "stream",
     "text": [
      "[0.4675, 0.808, 0.8785, 0.891, 0.908, 0.924, 0.9225, 0.935, 0.9325, 0.927, 0.938, 0.9465, 0.9395, 0.9345, 0.9275] [0.765999972820282, 0.878000020980835, 0.6635000109672546, 0.9085000157356262, 0.8644999861717224, 0.9175000190734863, 0.9259999990463257, 0.9319999814033508, 0.9455000162124634, 0.9304999709129333, 0.9434999823570251, 0.925000011920929, 0.9559999704360962, 0.9465000033378601, 0.9474999904632568]\n"
     ]
    }
   ],
   "source": [
    "print(accuracy,val_accuracy)"
   ]
  },
  {
   "cell_type": "code",
   "execution_count": 14,
   "metadata": {},
   "outputs": [
    {
     "data": {
      "image/png": "[encoded data removed]",
      "text/plain": [
       "<Figure size 432x288 with 1 Axes>"
      ]
     },
     "metadata": {
      "needs_background": "light"
     },
     "output_type": "display_data"
    }
   ],
   "source": [
    "plt.plot(range(1,15+1),accuracy)\n",
    "plt.plot(range(1,15+1),val_accuracy)\n",
    "\n",
    "plt.xlabel('epochs')\n",
    "plt.ylabel('accuracy')\n",
    "plt.legend(['accuracy','val_accuracy'])\n",
    "plt.show()"
   ]
  },
  {
   "cell_type": "code",
   "execution_count": 15,
   "metadata": {},
   "outputs": [],
   "source": [
    "model.save('DCNN-11.h5')"
   ]
  },
  {
   "cell_type": "code",
   "execution_count": null,
   "metadata": {},
   "outputs": [],
   "source": []
  }
 ],
 "metadata": {
  "kernelspec": {
   "display_name": "Python 3",
   "language": "python",
   "name": "python3"
  },
  "language_info": {
   "codemirror_mode": {
    "name": "ipython",
    "version": 3
   },
   "file_extension": ".py",
   "mimetype": "text/x-python",
   "name": "python",
   "nbconvert_exporter": "python",
   "pygments_lexer": "ipython3",
   "version": "3.6.9"
  }
 },
 "nbformat": 4,
 "nbformat_minor": 2
}
